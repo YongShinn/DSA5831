{
 "cells": [
  {
   "cell_type": "code",
   "execution_count": 179,
   "metadata": {},
   "outputs": [],
   "source": [
    "import numpy as np\n",
    "import pandas as pd\n",
    "import matplotlib.pyplot as plt\n",
    "import seaborn as sns\n",
    "import geopandas as gpd\n",
    "import geoplot\n",
    "from datetime import datetime\n",
    "from math import sin, cos, sqrt, atan2, radians\n",
    "\n",
    "def calculate_distance(row):\n",
    "    # approximate radius of earth in km\n",
    "    R = 6373.0\n",
    "\n",
    "    lat1 = radians(row.pickup_latitude)\n",
    "    lon1 = radians(row.pickup_longitude)\n",
    "    lat2 = radians(row.dropoff_latitude)\n",
    "    lon2 = radians(row.dropoff_longitude)\n",
    "\n",
    "    dlon = lon2 - lon1\n",
    "    dlat = lat2 - lat1\n",
    "\n",
    "    a = sin(dlat / 2)**2 + cos(lat1) * cos(lat2) * sin(dlon / 2)**2\n",
    "    c = 2 * atan2(sqrt(a), sqrt(1 - a))\n",
    "\n",
    "    distance = R * c\n",
    "    return distance*1000 # in metres"
   ]
  },
  {
   "cell_type": "code",
   "execution_count": 180,
   "metadata": {},
   "outputs": [],
   "source": [
    "def remove_outlier_IQR(df, colname): # Remove outliers using 1.5IQR Method\n",
    "    colname_describe = df[colname].describe()\n",
    "\n",
    "    IQR = colname_describe['75%'] - colname_describe['25%'] \n",
    "\n",
    "    df_cleaned = \\\n",
    "    df.copy()\\\n",
    "    .loc[lambda x: x[colname] < colname_describe['75%'] + 1.5 * IQR]\\\n",
    "    .loc[lambda x: x[colname] > colname_describe['25%'] - 1.5 * IQR]\n",
    "    \n",
    "    return df_cleaned\n"
   ]
  },
  {
   "cell_type": "code",
   "execution_count": 181,
   "metadata": {},
   "outputs": [],
   "source": [
    "df = pd.read_csv('../data/train.csv')"
   ]
  },
  {
   "cell_type": "code",
   "execution_count": 182,
   "metadata": {},
   "outputs": [
    {
     "data": {
      "text/html": [
       "<div>\n",
       "<style scoped>\n",
       "    .dataframe tbody tr th:only-of-type {\n",
       "        vertical-align: middle;\n",
       "    }\n",
       "\n",
       "    .dataframe tbody tr th {\n",
       "        vertical-align: top;\n",
       "    }\n",
       "\n",
       "    .dataframe thead th {\n",
       "        text-align: right;\n",
       "    }\n",
       "</style>\n",
       "<table border=\"1\" class=\"dataframe\">\n",
       "  <thead>\n",
       "    <tr style=\"text-align: right;\">\n",
       "      <th></th>\n",
       "      <th>id</th>\n",
       "      <th>vendor_id</th>\n",
       "      <th>pickup_datetime</th>\n",
       "      <th>dropoff_datetime</th>\n",
       "      <th>passenger_count</th>\n",
       "      <th>pickup_longitude</th>\n",
       "      <th>pickup_latitude</th>\n",
       "      <th>dropoff_longitude</th>\n",
       "      <th>dropoff_latitude</th>\n",
       "      <th>store_and_fwd_flag</th>\n",
       "      <th>trip_duration</th>\n",
       "    </tr>\n",
       "  </thead>\n",
       "  <tbody>\n",
       "    <tr>\n",
       "      <th>0</th>\n",
       "      <td>id2875421</td>\n",
       "      <td>2</td>\n",
       "      <td>2016-03-14 17:24:55</td>\n",
       "      <td>2016-03-14 17:32:30</td>\n",
       "      <td>1</td>\n",
       "      <td>-73.982155</td>\n",
       "      <td>40.767937</td>\n",
       "      <td>-73.964630</td>\n",
       "      <td>40.765602</td>\n",
       "      <td>N</td>\n",
       "      <td>455</td>\n",
       "    </tr>\n",
       "    <tr>\n",
       "      <th>1</th>\n",
       "      <td>id2377394</td>\n",
       "      <td>1</td>\n",
       "      <td>2016-06-12 00:43:35</td>\n",
       "      <td>2016-06-12 00:54:38</td>\n",
       "      <td>1</td>\n",
       "      <td>-73.980415</td>\n",
       "      <td>40.738564</td>\n",
       "      <td>-73.999481</td>\n",
       "      <td>40.731152</td>\n",
       "      <td>N</td>\n",
       "      <td>663</td>\n",
       "    </tr>\n",
       "    <tr>\n",
       "      <th>2</th>\n",
       "      <td>id3858529</td>\n",
       "      <td>2</td>\n",
       "      <td>2016-01-19 11:35:24</td>\n",
       "      <td>2016-01-19 12:10:48</td>\n",
       "      <td>1</td>\n",
       "      <td>-73.979027</td>\n",
       "      <td>40.763939</td>\n",
       "      <td>-74.005333</td>\n",
       "      <td>40.710087</td>\n",
       "      <td>N</td>\n",
       "      <td>2124</td>\n",
       "    </tr>\n",
       "  </tbody>\n",
       "</table>\n",
       "</div>"
      ],
      "text/plain": [
       "          id  vendor_id      pickup_datetime     dropoff_datetime  \\\n",
       "0  id2875421          2  2016-03-14 17:24:55  2016-03-14 17:32:30   \n",
       "1  id2377394          1  2016-06-12 00:43:35  2016-06-12 00:54:38   \n",
       "2  id3858529          2  2016-01-19 11:35:24  2016-01-19 12:10:48   \n",
       "\n",
       "   passenger_count  pickup_longitude  pickup_latitude  dropoff_longitude  \\\n",
       "0                1        -73.982155        40.767937         -73.964630   \n",
       "1                1        -73.980415        40.738564         -73.999481   \n",
       "2                1        -73.979027        40.763939         -74.005333   \n",
       "\n",
       "   dropoff_latitude store_and_fwd_flag  trip_duration  \n",
       "0         40.765602                  N            455  \n",
       "1         40.731152                  N            663  \n",
       "2         40.710087                  N           2124  "
      ]
     },
     "execution_count": 182,
     "metadata": {},
     "output_type": "execute_result"
    }
   ],
   "source": [
    "df.head(3)"
   ]
  },
  {
   "cell_type": "markdown",
   "metadata": {},
   "source": [
    "# Create Features (Predictors)"
   ]
  },
  {
   "cell_type": "code",
   "execution_count": 183,
   "metadata": {},
   "outputs": [],
   "source": [
    "# Distance\n",
    "df['distance'] = df.apply(calculate_distance, axis = 1)\n",
    "\n",
    "# Convert to datetime\n",
    "df.pickup_datetime = df.pickup_datetime.apply(lambda x: datetime.strptime(x, '%Y-%m-%d %H:%M:%S'))\n",
    "df.dropoff_datetime = df.dropoff_datetime.apply(lambda x: datetime.strptime(x, '%Y-%m-%d %H:%M:%S'))\n",
    "\n",
    "# Extract day, month, year, hour, minute\n",
    "df['pickup_day'] = df.pickup_datetime.apply(lambda x: x.day)\n",
    "df['pickup_month'] = df.pickup_datetime.apply(lambda x: x.month)\n",
    "df['pickup_year'] = df.pickup_datetime.apply(lambda x: x.year)\n",
    "df['pickup_dayofweek'] = df.pickup_datetime.apply(lambda x: x.dayofweek)\n",
    "df['pickup_weekday'] = df.pickup_datetime.apply(lambda x: x.weekday())\n",
    "df['pickup_hour'] = df.pickup_datetime.apply(lambda x: x.hour)\n",
    "df['pickup_minute'] = df.pickup_datetime.apply(lambda x: x.minute)\n",
    "\n",
    "# Extract day, month, year, hour, minute\n",
    "df['dropoff_day'] = df.dropoff_datetime.apply(lambda x: x.day)\n",
    "df['dropoff_month'] = df.dropoff_datetime.apply(lambda x: x.month)\n",
    "df['dropoff_year'] = df.dropoff_datetime.apply(lambda x: x.year)\n",
    "df['dropoff_dayofweek'] = df.dropoff_datetime.apply(lambda x: x.dayofweek)\n",
    "df['dropoff_weekday'] = df.dropoff_datetime.apply(lambda x: x.weekday())\n",
    "df['dropoff_hour'] = df.dropoff_datetime.apply(lambda x: x.hour)\n",
    "df['dropoff_minute'] = df.dropoff_datetime.apply(lambda x: x.minute)"
   ]
  },
  {
   "cell_type": "code",
   "execution_count": 184,
   "metadata": {},
   "outputs": [],
   "source": [
    "X = ['distance',\n",
    "    'pickup_day', 'pickup_month', 'pickup_year', 'pickup_dayofweek', 'pickup_weekday', 'pickup_hour', 'pickup_minute',\n",
    "    'dropoff_day', 'dropoff_month', 'dropoff_year', 'dropoff_dayofweek', 'dropoff_weekday', 'dropoff_hour', 'dropoff_minute']\n",
    "\n",
    "y = ['trip_duration']"
   ]
  },
  {
   "cell_type": "markdown",
   "metadata": {},
   "source": [
    "# Check and Remove Outliers"
   ]
  },
  {
   "cell_type": "code",
   "execution_count": 185,
   "metadata": {
    "scrolled": true
   },
   "outputs": [
    {
     "name": "stderr",
     "output_type": "stream",
     "text": [
      "C:\\Users\\hweec\\.conda\\envs\\geo_env\\lib\\site-packages\\seaborn\\_decorators.py:43: FutureWarning: Pass the following variable as a keyword arg: x. From version 0.12, the only valid positional argument will be `data`, and passing other arguments without an explicit keyword will result in an error or misinterpretation.\n",
      "  FutureWarning\n"
     ]
    },
    {
     "data": {
      "text/plain": [
       "<AxesSubplot:xlabel='trip_duration'>"
      ]
     },
     "execution_count": 185,
     "metadata": {},
     "output_type": "execute_result"
    },
    {
     "data": {
      "image/png": "[encoded data removed]",
      "text/plain": [
       "<Figure size 432x288 with 1 Axes>"
      ]
     },
     "metadata": {
      "needs_background": "light"
     },
     "output_type": "display_data"
    }
   ],
   "source": [
    "sns.boxplot(df.trip_duration)"
   ]
  },
  {
   "cell_type": "code",
   "execution_count": 186,
   "metadata": {},
   "outputs": [],
   "source": [
    "df_cleaned = remove_outlier_IQR(df, 'trip_duration')\n",
    "\n",
    "## Can also use leverage values or distance values for regression"
   ]
  },
  {
   "cell_type": "code",
   "execution_count": 187,
   "metadata": {},
   "outputs": [
    {
     "name": "stdout",
     "output_type": "stream",
     "text": [
      "74324 Outliers removed\n"
     ]
    }
   ],
   "source": [
    "print(\"{} Outliers removed\".format(df.shape[0] - df_cleaned.shape[0]))"
   ]
  },
  {
   "cell_type": "code",
   "execution_count": 188,
   "metadata": {},
   "outputs": [
    {
     "name": "stderr",
     "output_type": "stream",
     "text": [
      "C:\\Users\\hweec\\.conda\\envs\\geo_env\\lib\\site-packages\\seaborn\\_decorators.py:43: FutureWarning: Pass the following variable as a keyword arg: x. From version 0.12, the only valid positional argument will be `data`, and passing other arguments without an explicit keyword will result in an error or misinterpretation.\n",
      "  FutureWarning\n"
     ]
    },
    {
     "data": {
      "text/plain": [
       "<AxesSubplot:xlabel='trip_duration'>"
      ]
     },
     "execution_count": 188,
     "metadata": {},
     "output_type": "execute_result"
    },
    {
     "data": {
      "image/png": "[encoded data removed]",
      "text/plain": [
       "<Figure size 432x288 with 1 Axes>"
      ]
     },
     "metadata": {
      "needs_background": "light"
     },
     "output_type": "display_data"
    }
   ],
   "source": [
    "sns.boxplot(df_cleaned.trip_duration)"
   ]
  },
  {
   "cell_type": "markdown",
   "metadata": {},
   "source": [
    "## Visualize on Map"
   ]
  },
  {
   "cell_type": "code",
   "execution_count": 189,
   "metadata": {},
   "outputs": [],
   "source": [
    "max_longitude = max(max(df_cleaned.pickup_longitude), max(df_cleaned.dropoff_longitude))\n",
    "min_longitude = min(min(df_cleaned.pickup_longitude), min(df_cleaned.dropoff_longitude))\n",
    "\n",
    "max_latitude = max(max(df_cleaned.pickup_latitude), max(df_cleaned.dropoff_latitude))\n",
    "min_latitude = min(min(df_cleaned.pickup_latitude), min(df_cleaned.dropoff_latitude))"
   ]
  },
  {
   "cell_type": "code",
   "execution_count": 190,
   "metadata": {},
   "outputs": [
    {
     "data": {
      "image/png": "[encoded data removed]",
      "text/plain": [
       "<Figure size 1080x1080 with 1 Axes>"
      ]
     },
     "metadata": {
      "needs_background": "light"
     },
     "output_type": "display_data"
    }
   ],
   "source": [
    "us_map = gpd.read_file(\"../data/map/cb_2018_us_nation_5m.shp\")\n",
    "fig, ax = plt.subplots(figsize = (15, 15))\n",
    "us_map.plot(ax = ax)\n",
    "\n",
    "# Show Boundary Box\n",
    "ax.set_xlim((min_longitude, max_longitude))\n",
    "ax.set_ylim((min_latitude, max_latitude))\n",
    "\n",
    "# Plot pickup\n",
    "\n",
    "#plt.scatter(data = df_locations_2, x = 'pickup_latitude', y= 'pickup_longitude',\n",
    "#           c = 'green')\n",
    "\n",
    "\n",
    "plt.scatter(data = df_cleaned\\\n",
    "                          , x = 'pickup_longitude', y= 'pickup_latitude',\n",
    "           c = 'yellow')\n",
    "\n",
    "# Plot dropoff\n",
    "plt.scatter(data = df_cleaned\\\n",
    "                          , x = 'dropoff_longitude', y= 'dropoff_latitude',\n",
    "           c = 'red')\n",
    "\n",
    "plt.show()"
   ]
  },
  {
   "cell_type": "markdown",
   "metadata": {},
   "source": [
    "## One Hot Encoding"
   ]
  },
  {
   "cell_type": "code",
   "execution_count": 205,
   "metadata": {},
   "outputs": [],
   "source": [
    "from sklearn.preprocessing import OneHotEncoder\n",
    "\n",
    "pickup_day_enc = OneHotEncoder(drop = 'first')\n",
    "pickup_day_ohe = pickup_day_enc.fit_transform(df_cleaned['pickup_day'].values.reshape(-1, 1))\n"
   ]
  },
  {
   "cell_type": "code",
   "execution_count": 206,
   "metadata": {},
   "outputs": [
    {
     "data": {
      "text/plain": [
       "<1384320x30 sparse matrix of type '<class 'numpy.float64'>'\n",
       "\twith 1339926 stored elements in Compressed Sparse Row format>"
      ]
     },
     "execution_count": 206,
     "metadata": {},
     "output_type": "execute_result"
    }
   ],
   "source": [
    "pickup_day_ohe"
   ]
  },
  {
   "cell_type": "markdown",
   "metadata": {},
   "source": [
    "# Build Regression Model"
   ]
  },
  {
   "cell_type": "code",
   "execution_count": 107,
   "metadata": {},
   "outputs": [],
   "source": [
    "## X : Day, Month, Hour, Minute --> Weekdays, Weekends, Holidays, \n",
    "## X : Distance from lat lon\n",
    "## y : Duration\n",
    "\n",
    "## Inference\n",
    "## Check Assumptions for OLS\n",
    "## Collinearity (Pairwise scatter plots, or pearson R2)/ multi-collinearity (VIF)\n",
    "## Autocorrelation (Index residual plot)\n",
    "## Error is normal with mean 0 and constant variance (QQ plot, standardize residual plot)\n",
    "\n",
    "## T tests, F tests\n",
    "## Coefficients (Hard to read for interactions terms/ polynomial expansion)\n",
    "\n",
    "\n",
    "## Prediction\n",
    "## Check Test Error\n"
   ]
  },
  {
   "cell_type": "code",
   "execution_count": 108,
   "metadata": {},
   "outputs": [],
   "source": [
    "ls = [1,2,3]"
   ]
  }
 ],
 "metadata": {
  "kernelspec": {
   "display_name": "Python 3",
   "language": "python",
   "name": "python3"
  },
  "language_info": {
   "codemirror_mode": {
    "name": "ipython",
    "version": 3
   },
   "file_extension": ".py",
   "mimetype": "text/x-python",
   "name": "python",
   "nbconvert_exporter": "python",
   "pygments_lexer": "ipython3",
   "version": "3.7.8"
  }
 },
 "nbformat": 4,
 "nbformat_minor": 4
}
